{
 "cells": [
  {
   "cell_type": "code",
   "execution_count": 1,
   "id": "466d394b",
   "metadata": {},
   "outputs": [
    {
     "name": "stderr",
     "output_type": "stream",
     "text": [
      "c:\\Users\\grado\\Desktop\\dsl-research-assistant\\.venv\\lib\\site-packages\\tqdm\\auto.py:21: TqdmWarning: IProgress not found. Please update jupyter and ipywidgets. See https://ipywidgets.readthedocs.io/en/stable/user_install.html\n",
      "  from .autonotebook import tqdm as notebook_tqdm\n"
     ]
    }
   ],
   "source": [
    "from dsl_research_assistant.captions.image_captioning import ImageCaptioning\n",
    "import os"
   ]
  },
  {
   "cell_type": "code",
   "execution_count": null,
   "id": "61c4aa99",
   "metadata": {},
   "outputs": [
    {
     "ename": "",
     "evalue": "",
     "output_type": "error",
     "traceback": [
      "\u001b[1;31mThe Kernel crashed while executing code in the current cell or a previous cell. \n",
      "\u001b[1;31mPlease review the code in the cell(s) to identify a possible cause of the failure. \n",
      "\u001b[1;31mClick <a href='https://aka.ms/vscodeJupyterKernelCrash'>here</a> for more info. \n",
      "\u001b[1;31mView Jupyter <a href='command:jupyter.viewOutput'>log</a> for further details."
     ]
    }
   ],
   "source": [
    "model_names_tasks = [ (\"xtuner/llava-llama-3-8b-v1_1-transformers\", \"image-text-to-text\")]  #\"mPLUG/DocOwl2\", \"ds4sd/SmolDocling-256M-preview\", (\"Salesforce/blip-image-captioning-base\",\"image-to-text\"),"
   ]
  },
  {
   "cell_type": "code",
   "execution_count": null,
   "id": "227ab1e9",
   "metadata": {},
   "outputs": [
    {
     "name": "stdout",
     "output_type": "stream",
     "text": [
      "Testing model: xtuner/llava-llama-3-8b-v1_1-transformers\n"
     ]
    },
    {
     "name": "stderr",
     "output_type": "stream",
     "text": [
      "Fetching 4 files:   0%|          | 0/4 [00:00<?, ?it/s]"
     ]
    }
   ],
   "source": [
    "for (model_name, task) in model_names_tasks:\n",
    "    print(f\"Testing model: {model_name}\")\n",
    "    image_captioning = ImageCaptioning(model_name = model_name, task =task)\n",
    "    image_path = \"C:\\\\Users\\\\grado\\\\Desktop\\\\dsl-research-assistant\\\\image_captions\\\\Abdal_Gaussian_Shell_Maps_for_Efficient_3D_Human_Generation_CVPR_2024_paper\\\\Abdal_Gaussian_Shell_Maps_for_Efficient_3D_Human_Generation_CVPR_2024_paper-picture-2.png\"\n",
    "    prompt = \"Describe this image in a few sentences.\"\n",
    "    context = \"This CVPR paper is the Open Access version, provided by the Computer Vision Foundation. Except for this watermark, it is identical to the accepted version; the final published version of the proceedings is available on IEEE Xplore. Gaussian Shell Maps for Efficient 3D Human Generation Rameen Abdal *1 Wang Yifan *1 Zifan Shi *†1,2 Yinghao Xu 1 Ryan Po 1 Zhengfei Kuang 1 Qifeng Chen 2 Dit-Yan Yeung 2 Gordon Wetzstein 1 1 Stanford University, USA HKUST, Hong Kong 2\"\n",
    "    caption = image_captioning.generate_caption(image_path, prompt, context)\n",
    "    print(f\"Generated caption: {caption}\")"
   ]
  }
 ],
 "metadata": {
  "kernelspec": {
   "display_name": ".venv",
   "language": "python",
   "name": "python3"
  },
  "language_info": {
   "codemirror_mode": {
    "name": "ipython",
    "version": 3
   },
   "file_extension": ".py",
   "mimetype": "text/x-python",
   "name": "python",
   "nbconvert_exporter": "python",
   "pygments_lexer": "ipython3",
   "version": "3.10.11"
  }
 },
 "nbformat": 4,
 "nbformat_minor": 5
}
