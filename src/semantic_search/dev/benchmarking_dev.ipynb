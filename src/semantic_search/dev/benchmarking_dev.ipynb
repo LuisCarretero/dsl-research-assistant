{
 "cells": [
  {
   "cell_type": "code",
   "execution_count": 51,
   "metadata": {},
   "outputs": [],
   "source": [
    "from importlib import reload\n",
    "from semantic_search import store\n",
    "reload(store)\n",
    "from semantic_search.store import LocalEmbeddingModel, FAISSDocumentStore"
   ]
  },
  {
   "cell_type": "code",
   "execution_count": 52,
   "metadata": {},
   "outputs": [
    {
     "name": "stdout",
     "output_type": "stream",
     "text": [
      "Loaded index with 36379 vectors\n"
     ]
    }
   ],
   "source": [
    "model = LocalEmbeddingModel(chunk_size=256)\n",
    "store = FAISSDocumentStore(model, db_dir='/cluster/home/lcarretero/workspace/dsl/dsl-research-assistant/db/references-1')\n",
    "\n",
    "assert store.load_index()"
   ]
  },
  {
   "cell_type": "code",
   "execution_count": 53,
   "metadata": {},
   "outputs": [
    {
     "data": {
      "text/plain": [
       "[{'rank': 1,\n",
       "  'score': 0.8346070789658119,\n",
       "  'document_id': 'W3203625766',\n",
       "  'chunk_text': 'on the test set.'},\n",
       " {'rank': 2,\n",
       "  'score': 0.8334892017230405,\n",
       "  'document_id': 'W2963644257',\n",
       "  'chunk_text': 'is shown to considerably improve performance on the benchmark tests.'},\n",
       " {'rank': 3,\n",
       "  'score': 0.8208612219059436,\n",
       "  'document_id': 'W4304084089',\n",
       "  'chunk_text': 'of test - time adaptation of the proposed method.'},\n",
       " {'rank': 4,\n",
       "  'score': 0.7901869436629443,\n",
       "  'document_id': 'W4320013936',\n",
       "  'chunk_text': 'research.'},\n",
       " {'rank': 5,\n",
       "  'score': 0.7901869436629443,\n",
       "  'document_id': 'W4312233703',\n",
       "  'chunk_text': 'research.'}]"
      ]
     },
     "execution_count": 53,
     "metadata": {},
     "output_type": "execute_result"
    }
   ],
   "source": [
    "store.search('Test', top_k=5)"
   ]
  },
  {
   "cell_type": "markdown",
   "metadata": {},
   "source": [
    "## Benchmarking"
   ]
  },
  {
   "cell_type": "code",
   "execution_count": 42,
   "metadata": {},
   "outputs": [],
   "source": [
    "import pandas as pd\n",
    "from typing import List\n",
    "\n",
    "from importlib import reload\n",
    "from semantic_search import utils\n",
    "reload(utils)\n",
    "from semantic_search.utils import parse_referenced_works, extract_abstract_from_md"
   ]
  },
  {
   "cell_type": "code",
   "execution_count": 57,
   "metadata": {},
   "outputs": [],
   "source": [
    "df = pd.read_csv('/cluster/home/lcarretero/workspace/dsl/dsl-research-assistant/raw-data/metadata/openalex-ids+refs.csv')\n",
    "ref_df = pd.read_csv('/cluster/home/lcarretero/workspace/dsl/dsl-research-assistant/raw-data/metadata/openalex-refs-abstracts.csv')\n",
    "df['referenced_works'] = df['referenced_works'].apply(parse_referenced_works)\n",
    "df['has_refs'] = df.referenced_works.apply(len) > 0\n",
    "df['abstract'] = df['fpath'].apply(extract_abstract_from_md)\n",
    "df['has_abstract'] = df.abstract.apply(len) > 0"
   ]
  },
  {
   "cell_type": "code",
   "execution_count": 66,
   "metadata": {},
   "outputs": [
    {
     "data": {
      "text/html": [
       "<div>\n",
       "<style scoped>\n",
       "    .dataframe tbody tr th:only-of-type {\n",
       "        vertical-align: middle;\n",
       "    }\n",
       "\n",
       "    .dataframe tbody tr th {\n",
       "        vertical-align: top;\n",
       "    }\n",
       "\n",
       "    .dataframe thead th {\n",
       "        text-align: right;\n",
       "    }\n",
       "</style>\n",
       "<table border=\"1\" class=\"dataframe\">\n",
       "  <thead>\n",
       "    <tr style=\"text-align: right;\">\n",
       "      <th></th>\n",
       "      <th>fpath</th>\n",
       "      <th>title</th>\n",
       "      <th>doi</th>\n",
       "      <th>oaid</th>\n",
       "      <th>referenced_works</th>\n",
       "      <th>has_refs</th>\n",
       "      <th>abstract</th>\n",
       "      <th>has_abstract</th>\n",
       "      <th>predicted_refs</th>\n",
       "      <th>GT_refs</th>\n",
       "    </tr>\n",
       "  </thead>\n",
       "  <tbody>\n",
       "    <tr>\n",
       "      <th>0</th>\n",
       "      <td>/cluster/home/lcarretero/workspace/dsl/dsl-res...</td>\n",
       "      <td>Fixed Point Diffusion Models</td>\n",
       "      <td>https://doi.org/10.1063/1.2121687</td>\n",
       "      <td>https://openalex.org/W2000456051</td>\n",
       "      <td>[https://openalex.org/W1504980292, https://ope...</td>\n",
       "      <td>True</td>\n",
       "      <td>We introduce the Fixed Point Diffusion Model (...</td>\n",
       "      <td>True</td>\n",
       "      <td>[W3153469116, W4318348481, W4317539811, W43061...</td>\n",
       "      <td>[W1504980292, W1646044445, W1966745391, W19764...</td>\n",
       "    </tr>\n",
       "    <tr>\n",
       "      <th>1</th>\n",
       "      <td>/cluster/home/lcarretero/workspace/dsl/dsl-res...</td>\n",
       "      <td>BEVNeXt: Reviving Dense BEV Frameworks for 3D ...</td>\n",
       "      <td>https://doi.org/10.1109/cvpr52733.2024.01901</td>\n",
       "      <td>https://openalex.org/W4402727763</td>\n",
       "      <td>[https://openalex.org/W1861492603, https://ope...</td>\n",
       "      <td>True</td>\n",
       "      <td>Recently, the rise of query-based Transformer ...</td>\n",
       "      <td>True</td>\n",
       "      <td>[W3035308182, W4386076222, W4385970268, W43860...</td>\n",
       "      <td>[W1861492603, W2083047701, W2108598243, W21245...</td>\n",
       "    </tr>\n",
       "    <tr>\n",
       "      <th>4</th>\n",
       "      <td>/cluster/home/lcarretero/workspace/dsl/dsl-res...</td>\n",
       "      <td>Efficient local correlation volume for unsuper...</td>\n",
       "      <td>https://doi.org/10.1109/cvprw63382.2024.00049</td>\n",
       "      <td>https://openalex.org/W4402904316</td>\n",
       "      <td>[https://openalex.org/W1513100184, https://ope...</td>\n",
       "      <td>True</td>\n",
       "      <td>With the advent of deep learning methods, perf...</td>\n",
       "      <td>True</td>\n",
       "      <td>[W2604233003, W3034921716, W4390873135, W31662...</td>\n",
       "      <td>[W1513100184, W1578285471, W1867429401, W19931...</td>\n",
       "    </tr>\n",
       "    <tr>\n",
       "      <th>7</th>\n",
       "      <td>/cluster/home/lcarretero/workspace/dsl/dsl-res...</td>\n",
       "      <td>Towards Understanding and Improving Adversaria...</td>\n",
       "      <td>https://doi.org/10.1109/cvpr52733.2024.02336</td>\n",
       "      <td>https://openalex.org/W4402753640</td>\n",
       "      <td>[https://openalex.org/W2517229335, https://ope...</td>\n",
       "      <td>True</td>\n",
       "      <td>Recent literature has demonstrated that vision...</td>\n",
       "      <td>True</td>\n",
       "      <td>[W3131500599, W2963163009, W2015461918, W42255...</td>\n",
       "      <td>[W2517229335, W2525579820, W2896457183, W29138...</td>\n",
       "    </tr>\n",
       "    <tr>\n",
       "      <th>8</th>\n",
       "      <td>/cluster/home/lcarretero/workspace/dsl/dsl-res...</td>\n",
       "      <td>Adaptive Softassign via Hadamard-Equipped Sink...</td>\n",
       "      <td>https://doi.org/10.1109/cvpr52733.2024.01670</td>\n",
       "      <td>https://openalex.org/W4402753930</td>\n",
       "      <td>[https://openalex.org/W1587878450, https://ope...</td>\n",
       "      <td>True</td>\n",
       "      <td>Softassign is a pivotal method in graph matchi...</td>\n",
       "      <td>True</td>\n",
       "      <td>[W4312361099, W48175873, W2412782625, W1926090...</td>\n",
       "      <td>[W1587878450, W1592360969, W1982143037, W19902...</td>\n",
       "    </tr>\n",
       "  </tbody>\n",
       "</table>\n",
       "</div>"
      ],
      "text/plain": [
       "                                               fpath  \\\n",
       "0  /cluster/home/lcarretero/workspace/dsl/dsl-res...   \n",
       "1  /cluster/home/lcarretero/workspace/dsl/dsl-res...   \n",
       "4  /cluster/home/lcarretero/workspace/dsl/dsl-res...   \n",
       "7  /cluster/home/lcarretero/workspace/dsl/dsl-res...   \n",
       "8  /cluster/home/lcarretero/workspace/dsl/dsl-res...   \n",
       "\n",
       "                                               title  \\\n",
       "0                       Fixed Point Diffusion Models   \n",
       "1  BEVNeXt: Reviving Dense BEV Frameworks for 3D ...   \n",
       "4  Efficient local correlation volume for unsuper...   \n",
       "7  Towards Understanding and Improving Adversaria...   \n",
       "8  Adaptive Softassign via Hadamard-Equipped Sink...   \n",
       "\n",
       "                                             doi  \\\n",
       "0              https://doi.org/10.1063/1.2121687   \n",
       "1   https://doi.org/10.1109/cvpr52733.2024.01901   \n",
       "4  https://doi.org/10.1109/cvprw63382.2024.00049   \n",
       "7   https://doi.org/10.1109/cvpr52733.2024.02336   \n",
       "8   https://doi.org/10.1109/cvpr52733.2024.01670   \n",
       "\n",
       "                               oaid  \\\n",
       "0  https://openalex.org/W2000456051   \n",
       "1  https://openalex.org/W4402727763   \n",
       "4  https://openalex.org/W4402904316   \n",
       "7  https://openalex.org/W4402753640   \n",
       "8  https://openalex.org/W4402753930   \n",
       "\n",
       "                                    referenced_works  has_refs  \\\n",
       "0  [https://openalex.org/W1504980292, https://ope...      True   \n",
       "1  [https://openalex.org/W1861492603, https://ope...      True   \n",
       "4  [https://openalex.org/W1513100184, https://ope...      True   \n",
       "7  [https://openalex.org/W2517229335, https://ope...      True   \n",
       "8  [https://openalex.org/W1587878450, https://ope...      True   \n",
       "\n",
       "                                            abstract  has_abstract  \\\n",
       "0  We introduce the Fixed Point Diffusion Model (...          True   \n",
       "1  Recently, the rise of query-based Transformer ...          True   \n",
       "4  With the advent of deep learning methods, perf...          True   \n",
       "7  Recent literature has demonstrated that vision...          True   \n",
       "8  Softassign is a pivotal method in graph matchi...          True   \n",
       "\n",
       "                                      predicted_refs  \\\n",
       "0  [W3153469116, W4318348481, W4317539811, W43061...   \n",
       "1  [W3035308182, W4386076222, W4385970268, W43860...   \n",
       "4  [W2604233003, W3034921716, W4390873135, W31662...   \n",
       "7  [W3131500599, W2963163009, W2015461918, W42255...   \n",
       "8  [W4312361099, W48175873, W2412782625, W1926090...   \n",
       "\n",
       "                                             GT_refs  \n",
       "0  [W1504980292, W1646044445, W1966745391, W19764...  \n",
       "1  [W1861492603, W2083047701, W2108598243, W21245...  \n",
       "4  [W1513100184, W1578285471, W1867429401, W19931...  \n",
       "7  [W2517229335, W2525579820, W2896457183, W29138...  \n",
       "8  [W1587878450, W1592360969, W1982143037, W19902...  "
      ]
     },
     "execution_count": 66,
     "metadata": {},
     "output_type": "execute_result"
    }
   ],
   "source": [
    "df = df[df.has_refs & df.has_abstract]  # Only benchmarking on papers with available abstracts and GT references.\n",
    "\n",
    "def predict_refs_from_abstract(abstract: str, max_n_refs: int = 20) -> List[str]:\n",
    "    docs = store.search(abstract, top_k=max_n_refs)\n",
    "    return list(set([doc['document_id'] for doc in docs]))\n",
    "\n",
    "df['predicted_refs'] = df.abstract.apply(predict_refs_from_abstract)\n",
    "df['GT_refs'] = df.referenced_works.apply(lambda refs: [ref.split('/')[-1] for ref in refs])\n",
    "df.head()"
   ]
  },
  {
   "cell_type": "code",
   "execution_count": 72,
   "metadata": {},
   "outputs": [
    {
     "name": "stdout",
     "output_type": "stream",
     "text": [
      "Mean Precision: 0.2445\n",
      "Mean Recall: 0.0966\n",
      "Mean F1 Score: 0.1349\n"
     ]
    }
   ],
   "source": [
    "# Calculate precision, recall, and F1 scores\n",
    "def calculate_metrics(gt_refs, pred_refs):\n",
    "    assert len(gt_refs) > 0\n",
    "    gt_set = set(gt_refs)\n",
    "    pred_set = set(pred_refs)\n",
    "    \n",
    "    true_positives = len(gt_set.intersection(pred_set))\n",
    "    \n",
    "    precision = true_positives / len(pred_set) if len(pred_set) > 0 else 0\n",
    "    recall = true_positives / len(gt_set)\n",
    "    f1 = 2 * precision * recall / (precision + recall) if (precision + recall) > 0 else 0\n",
    "    \n",
    "    return precision, recall, f1\n",
    "\n",
    "# Apply the metrics calculation to each row\n",
    "metrics = df.apply(lambda row: calculate_metrics(row['GT_refs'], row['predicted_refs']), axis=1)\n",
    "metrics_df = pd.DataFrame(metrics.tolist(), columns=['precision', 'recall', 'f1'])\n",
    "mean_precision, mean_recall, mean_f1 = metrics_df[['precision', 'recall', 'f1']].mean()\n",
    "\n",
    "print(f\"Mean Precision: {mean_precision:.4f}\")\n",
    "print(f\"Mean Recall: {mean_recall:.4f}\")\n",
    "print(f\"Mean F1 Score: {mean_f1:.4f}\")"
   ]
  },
  {
   "cell_type": "code",
   "execution_count": null,
   "metadata": {},
   "outputs": [],
   "source": [
    "## Correct for missing abstracts"
   ]
  }
 ],
 "metadata": {
  "kernelspec": {
   "display_name": "Python (dsl-research-assistant)",
   "language": "python",
   "name": "dsl-research-assistant"
  },
  "language_info": {
   "codemirror_mode": {
    "name": "ipython",
    "version": 3
   },
   "file_extension": ".py",
   "mimetype": "text/x-python",
   "name": "python",
   "nbconvert_exporter": "python",
   "pygments_lexer": "ipython3",
   "version": "3.11.6"
  }
 },
 "nbformat": 4,
 "nbformat_minor": 2
}
