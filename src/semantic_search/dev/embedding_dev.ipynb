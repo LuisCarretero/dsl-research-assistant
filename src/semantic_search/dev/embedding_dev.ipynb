{
 "cells": [
  {
   "cell_type": "markdown",
   "metadata": {},
   "source": [
    "## Create vector DB"
   ]
  },
  {
   "cell_type": "markdown",
   "metadata": {},
   "source": [
    "### Testing HF embedding model"
   ]
  },
  {
   "cell_type": "code",
   "execution_count": 63,
   "metadata": {},
   "outputs": [],
   "source": [
    "import pandas as pd\n",
    "\n",
    "from importlib import reload\n",
    "from semantic_search import store\n",
    "reload(store)\n",
    "from semantic_search.store import LocalEmbeddingModel, FAISSDocumentStore"
   ]
  },
  {
   "cell_type": "markdown",
   "metadata": {},
   "source": [
    "### Using scraped abstracts"
   ]
  },
  {
   "cell_type": "code",
   "execution_count": 64,
   "metadata": {},
   "outputs": [
    {
     "name": "stdout",
     "output_type": "stream",
     "text": [
      "Loaded index with 21475 vectors\n"
     ]
    }
   ],
   "source": [
    "model = LocalEmbeddingModel(chunk_size=256)\n",
    "store = FAISSDocumentStore(model, db_dir='/cluster/home/lcarretero/workspace/dsl/dsl-research-assistant/db/references-1')\n",
    "\n",
    "if not store.load_index():\n",
    "    docs = pd.read_csv('/cluster/home/lcarretero/workspace/dsl/dsl-research-assistant/raw-data/metadata/openalex-refs-abstracts.csv')\n",
    "    docs.loc[docs.abstract.isna(), 'abstract'] = ''\n",
    "    docs['has_abstract'] = docs.abstract.apply(len) > 0\n",
    "\n",
    "    docs['ref_work'] = docs['ref_work'].str.split('/').str[-1]\n",
    "    docs.rename(columns={'ref_work': 'id', 'abstract': 'text'}, inplace=True)\n",
    "    docs = docs[docs.has_abstract]\n",
    "\n",
    "    store.create_index_from_df(docs)"
   ]
  },
  {
   "cell_type": "code",
   "execution_count": 68,
   "metadata": {},
   "outputs": [
    {
     "data": {
      "text/plain": [
       "[{'rank': 1,\n",
       "  'score': 0.9625233863365061,\n",
       "  'document_id': 'W2949650786',\n",
       "  'chunk_text': 'deeper neural networks are more difficult to train. we present a residual learning framework to ease the training of networks that are substantially deeper than those used previously. we explicitly reformulate the layers as learning residual functions with reference to the layer inputs, instead of learning unreferenced functions. we provide comprehensive empirical evidence showing that these residual networks are easier to optimize, and can gain accuracy from considerably increased depth. on the imagenet dataset we evaluate residual nets with a depth of up to 152 layers - - - 8x deeper than vgg nets but still having lower complexity. an ensemble of these residual nets achieves 3. 57 % error on the imagenet test set. this result won the 1st place on the ilsvrc 2015 classification task. we also present analysis on cifar - 10 with 100 and 1000 layers. the depth of representations is of central importance for many visual recognition tasks. solely due to our extremely deep representations, we obtain a 28 % relative improvement on the coco object detection dataset. deep residual nets are foundations of our submissions to ilsvrc & coco 2015 competitions, where we also won the 1st places on the tasks of imagenet detection, imagenet localization, coco detection, and coco segmentation.'},\n",
       " {'rank': 2,\n",
       "  'score': 0.9625131498897935,\n",
       "  'document_id': 'W2194775991',\n",
       "  'chunk_text': 'deeper neural networks are more difficult to train. we present a residual learning framework to ease the training of networks that are substantially deeper than those used previously. we explicitly reformulate the layers as learning residual functions with reference to the layer inputs, instead of learning unreferenced functions. we provide comprehensive empirical evidence showing that these residual networks are easier to optimize, and can gain accuracy from considerably increased depth. on the imagenet dataset we evaluate residual nets with a depth of up to 152 layers - 8× deeper than vgg nets [ 40 ] but still having lower complexity. an ensemble of these residual nets achieves 3. 57 % error on the imagenet test set. this result won the 1st place on the ilsvrc 2015 classification task. we also present analysis on cifar - 10 with 100 and 1000 layers. the depth of representations is of central importance for many visual recognition tasks. solely due to our extremely deep representations, we obtain a 28 % relative improvement on the coco object detection dataset. deep residual nets are foundations of our submissions to ilsvrc & coco 2015 competitions1, where we also won the 1st places on the tasks of imagenet detection, imagenet localization, coco detection, and coco segmentation.'},\n",
       " {'rank': 3,\n",
       "  'score': 0.8838993383484592,\n",
       "  'document_id': 'W2964350391',\n",
       "  'chunk_text': 'very deep convolutional networks have been central to the largest advances in image recognition performance in recent years. one example is the inception architecture that has been shown to achieve very good performance at relatively low computational cost. recently, the introduction of residual connections in conjunction with a more traditional architecture has yielded state - of - the - art performance in the 2015 ilsvrc challenge ; its performance was similar to the latest generation inception - v3 network. this raises the question : are there any benefits to combining inception architectures with residual connections? here we give clear empirical evidence that training with residual connections accelerates the training of inception networks significantly. there is also some evidence of residual inception networks outperforming similarly expensive inception networks without residual connections by a thin margin. we also present several new streamlined architectures for both residual and non - residual inception networks. these variations improve the single - frame recognition performance on the ilsvrc 2012 classification task significantly. we further demonstrate how proper activation scaling stabilizes the training of very wide residual inception networks. with an ensemble of three residual and one inception - v4 networks, we achieve 3. 08 % top - 5 error on the test set of the imagenet classification ( cls ) challenge.'},\n",
       " {'rank': 4,\n",
       "  'score': 0.8787200350708327,\n",
       "  'document_id': 'W2274287116',\n",
       "  'chunk_text': 'very deep convolutional networks have been central to the largest advances in image recognition performance in recent years. one example is the inception architecture that has been shown to achieve very good performance at relatively low computational cost. recently, the introduction of residual connections in conjunction with a more traditional architecture has yielded state - of - the - art performance in the 2015 ilsvrc challenge ; its performance was similar to the latest generation inception - v3 network. this raises the question of whether there are any benefit in combining the inception architecture with residual connections. here we give clear empirical evidence that training with residual connections accelerates the training of inception networks significantly. there is also some evidence of residual inception networks outperforming similarly expensive inception networks without residual connections by a thin margin. we also present several new streamlined architectures for both residual and non - residual inception networks. these variations improve the single - frame recognition performance on the ilsvrc 2012 classification task significantly. we further demonstrate how proper activation scaling stabilizes the training of very wide residual inception networks. with an ensemble of three residual and one inception - v4, we achieve 3. 08 percent top - 5 error on the test set of the imagenet classification ( cls ) challenge'},\n",
       " {'rank': 5,\n",
       "  'score': 0.8745838781709969,\n",
       "  'document_id': 'W2549139847',\n",
       "  'chunk_text': 'we present a simple, highly modularized network architecture for image classification. our network is constructed by repeating a building block that aggregates a set of transformations with the same topology. our simple design results in a homogeneous, multi - branch architecture that has only a few hyper - parameters to set. this strategy exposes a new dimension, which we call cardinality ( the size of the set of transformations ), as an essential factor in addition to the dimensions of depth and width. on the imagenet - 1k dataset, we empirically show that even under the restricted condition of maintaining complexity, increasing cardinality is able to improve classification accuracy. moreover, increasing cardinality is more effective than going deeper or wider when we increase the capacity. our models, named resnext, are the foundations of our entry to the ilsvrc 2016 classification task in which we secured 2nd place. we further investigate resnext on an imagenet - 5k set and the coco detection set, also showing better results than its resnet counterpart. the code and models are publicly available online.'}]"
      ]
     },
     "execution_count": 68,
     "metadata": {},
     "output_type": "execute_result"
    }
   ],
   "source": [
    "query = \"alksdjalskdjkas.dfmasdmf.aöalsdkfölsakdfsasdlfkaösdfkasmd,f.asdmfas.dfmmdfdoirut comprehensive empirical evidence showing that these residual networks are easier to optimize, and can gain accuracy from considerably increased depth. On the ImageNet dataset we evaluate residual nets with a depth of up to 152 layers - 8× deeper than VGG nets [40] but still having lower complexity. An ensemble of these residual nets achieves 3.57% error on the ImageNet test set. This result won the 1st place on the ILSVRC 2015 classification task. We also present analysis on CIFAR-10 with 100 and 1000 layers. The depth of representations is of central importance for many visual recognition tasks. Solely due to our extremely deep representations, we obtain a 28% relative improvement on the COCO object detection dataset. Deep residual nets are foundations of our submissions to ILSVRC & COCO 2015 competitions1, where we also won the 1st places on the tasks of ImageNet detection, ImageNet localization, COCO detection, and COCO segmentation.\"\n",
    "store.search(query, top_k=5)"
   ]
  },
  {
   "cell_type": "code",
   "execution_count": 67,
   "metadata": {},
   "outputs": [
    {
     "data": {
      "text/plain": [
       "(array([1. , 1.2, 2. ]), array([1, 5, 2]))"
      ]
     },
     "execution_count": 67,
     "metadata": {},
     "output_type": "execute_result"
    }
   ],
   "source": [
    "import numpy as np\n",
    "\n",
    "dists = np.array([[1, 2, 3], [1.5, 1.2, 6]])\n",
    "chunk_ids = np.array([[1, 2, 3], [1, 5, 6]])\n",
    "store._merge_query_results(dists, chunk_ids, 3)\n"
   ]
  },
  {
   "cell_type": "code",
   "execution_count": null,
   "metadata": {},
   "outputs": [],
   "source": []
  },
  {
   "cell_type": "code",
   "execution_count": null,
   "metadata": {},
   "outputs": [],
   "source": []
  },
  {
   "cell_type": "markdown",
   "metadata": {},
   "source": [
    "### Using Docling papers"
   ]
  },
  {
   "cell_type": "code",
   "execution_count": null,
   "metadata": {},
   "outputs": [],
   "source": [
    "from importlib import reload\n",
    "from semantic_search import store\n",
    "reload(store)\n",
    "from semantic_search.store import LocalEmbeddingModel, FAISSDocumentStore"
   ]
  },
  {
   "cell_type": "code",
   "execution_count": null,
   "metadata": {},
   "outputs": [
    {
     "name": "stdout",
     "output_type": "stream",
     "text": [
      "Loaded index with 73809 vectors\n"
     ]
    }
   ],
   "source": [
    "embedding_model = LocalEmbeddingModel(\n",
    "    model_name='sentence-transformers/all-MiniLM-L6-v2',\n",
    "    device='cuda',\n",
    "    batch_size=8\n",
    ")\n",
    "document_store = FAISSDocumentStore(\n",
    "    embedding_model=embedding_model,\n",
    "    db_dir='/cluster/home/lcarretero/workspace/dsl/dsl-research-assistant/db/chunk1-txt-all',\n",
    ")\n",
    "\n",
    "if not document_store.load_index():\n",
    "    document_store.create_index_from_df('/cluster/home/lcarretero/workspace/dsl/dsl-research-assistant/raw-data/Conversions/opencvf-data/txt')"
   ]
  },
  {
   "cell_type": "code",
   "execution_count": null,
   "metadata": {},
   "outputs": [
    {
     "name": "stdout",
     "output_type": "stream",
     "text": [
      "er-efficient visual instruction model. arXiv 2304.15010 , 2023. 1, 3, 4\n",
      "- [9] Yash Goyal, Tejas Khot, Douglas Summers-Stay, Dhruv Batra, and Devi Parikh. Making the V in VQA matter: Elevating the role...\n"
     ]
    }
   ],
   "source": [
    "print(document_store.search(\"visual\", top_k=5)[0]['chunk_text'])"
   ]
  }
 ],
 "metadata": {
  "kernelspec": {
   "display_name": "Python (dsl-research-assistant)",
   "language": "python",
   "name": "dsl-research-assistant"
  }
 },
 "nbformat": 4,
 "nbformat_minor": 2
}
