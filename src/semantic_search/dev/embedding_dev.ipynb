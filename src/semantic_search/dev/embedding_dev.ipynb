{
 "cells": [
  {
   "cell_type": "markdown",
   "metadata": {},
   "source": [
    "## Create vector DB"
   ]
  },
  {
   "cell_type": "markdown",
   "metadata": {},
   "source": [
    "### Testing HF embedding model"
   ]
  },
  {
   "cell_type": "code",
   "execution_count": 3,
   "metadata": {},
   "outputs": [],
   "source": [
    "import pandas as pd\n",
    "\n",
    "from importlib import reload\n",
    "from semantic_search import store\n",
    "reload(store)\n",
    "from semantic_search.store import LocalEmbeddingModel, FAISSDocumentStore"
   ]
  },
  {
   "cell_type": "markdown",
   "metadata": {},
   "source": [
    "### Using scraped abstracts"
   ]
  },
  {
   "cell_type": "code",
   "execution_count": 4,
   "metadata": {},
   "outputs": [
    {
     "name": "stdout",
     "output_type": "stream",
     "text": [
      "Loaded index with 21475 vectors\n"
     ]
    }
   ],
   "source": [
    "model = LocalEmbeddingModel(chunk_size=256)\n",
    "store = FAISSDocumentStore(model, db_dir='/cluster/home/lcarretero/workspace/dsl/dsl-research-assistant/db/references-1')\n",
    "\n",
    "if not store.load_index():\n",
    "    docs = pd.read_csv('/cluster/home/lcarretero/workspace/dsl/dsl-research-assistant/raw-data/metadata/openalex-refs-abstracts.csv')\n",
    "    docs.loc[docs.abstract.isna(), 'abstract'] = ''\n",
    "    docs['has_abstract'] = docs.abstract.apply(len) > 0\n",
    "\n",
    "    docs['ref_work'] = docs['ref_work'].str.split('/').str[-1]\n",
    "    docs.rename(columns={'ref_work': 'id', 'abstract': 'text'}, inplace=True)\n",
    "    docs = docs[docs.has_abstract]\n",
    "\n",
    "    store.create_index(docs)"
   ]
  },
  {
   "cell_type": "code",
   "execution_count": null,
   "metadata": {},
   "outputs": [],
   "source": []
  },
  {
   "cell_type": "code",
   "execution_count": 46,
   "metadata": {},
   "outputs": [
    {
     "data": {
      "text/plain": [
       "array([[0.03071143, 0.03310277, 0.1296831 , 0.1356283 , 0.15532334,\n",
       "        0.15970904, 0.15992951, 0.16128401, 0.16214949, 0.17070526,\n",
       "        0.17090592, 0.17721507, 0.18120524, 0.18584749, 0.19065854,\n",
       "        0.192381  , 0.19289513, 0.19664885, 0.19749972, 0.19821504,\n",
       "        0.20029682, 0.20053777, 0.20267974, 0.20681563, 0.21096721,\n",
       "        0.21168473, 0.21203783, 0.21218616, 0.21395802, 0.2154732 ,\n",
       "        0.21631862, 0.21692687, 0.217722  , 0.21781579, 0.2179823 ,\n",
       "        0.21842092, 0.21960235, 0.21969415, 0.21995962, 0.22002907,\n",
       "        0.22068384, 0.22135529, 0.22177705, 0.22192246, 0.2223902 ,\n",
       "        0.22242603, 0.2224693 , 0.22269244, 0.2239922 , 0.22404361,\n",
       "        0.22404824, 0.22434242, 0.22442225, 0.2244964 , 0.22451092,\n",
       "        0.22457832, 0.22465198, 0.22475821, 0.2254357 , 0.22581327,\n",
       "        0.226785  , 0.22704974, 0.22713932, 0.22730243, 0.22761394,\n",
       "        0.22803545, 0.22888862, 0.22954684, 0.2298626 , 0.23029496,\n",
       "        0.23036751, 0.23036751, 0.2306041 , 0.23062265, 0.23080331,\n",
       "        0.23099723, 0.23113558, 0.23114821, 0.23170522, 0.23175901,\n",
       "        0.23214135, 0.23245765, 0.23253916, 0.23260593, 0.23260593,\n",
       "        0.23279026, 0.23322265, 0.23379618, 0.23408192, 0.23451748,\n",
       "        0.23459928, 0.23462638, 0.23488003, 0.23501338, 0.235042  ,\n",
       "        0.23587747, 0.23589537, 0.23610842, 0.23633331, 0.23642553]],\n",
       "      dtype=float32)"
      ]
     },
     "execution_count": 46,
     "metadata": {},
     "output_type": "execute_result"
    }
   ],
   "source": [
    "query = \"alksdjalskdjkas.dfmasdmf.asmdfdoirut comprehensive empirical evidence showing that these residual networks are easier to optimize, and can gain accuracy from considerably increased depth. On the ImageNet dataset we evaluate residual nets with a depth of up to 152 layers - 8× deeper than VGG nets [40] but still having lower complexity. An ensemble of these residual nets achieves 3.57% error on the ImageNet test set. This result won the 1st place on the ILSVRC 2015 classification task. We also present analysis on CIFAR-10 with 100 and 1000 layers. The depth of representations is of central importance for many visual recognition tasks. Solely due to our extremely deep representations, we obtain a 28% relative improvement on the COCO object detection dataset. Deep residual nets are foundations of our submissions to ILSVRC & COCO 2015 competitions1, where we also won the 1st places on the tasks of ImageNet detection, ImageNet localization, COCO detection, and COCO segmentation.\"\n",
    "chunks_text, chunks_encoded = store.embedding_model.chunk_and_encode(query, progress_bar=False)\n",
    "query_embedding = store.embedding_model.get_embeddings(chunks_encoded, progress_bar=False)\n",
    "distances, chunk_ids = store.index.search(query_embedding, 100)\n",
    "distances"
   ]
  },
  {
   "cell_type": "code",
   "execution_count": 40,
   "metadata": {},
   "outputs": [
    {
     "data": {
      "text/plain": [
       "['deeper neural networks are more difficult to train. we present a residual learning framework to ease the training of networks that are substantially deeper than those used previously. we explicitly reformulate the layers as learning residual functions with reference to the layer inputs, instead of chunks _ text. aosdke provide comprehensive empirical evidence showing that these residual networks are easier to optimize, and can gain accuracy from considerably increased depth. on the imagenet dataset we evaluate residual nets with a depth of up to 152 layers - 8× deeper than vgg nets [ 40 ] but still having lower complexity. an ensemble of these residual nets achieves 3. 57 % error on the imagenet test set. this result won the 1st place on the ilsvrc 2015 classification task. we also present analysis on cifar - 10 with 100 and 1000 layers. the depth of representations is of central importance for many visual recognition tasks. solely due to our extremely deep representations, we obtain a 28 % relative improvement on the coco object detection dataset. deep residual nets are foundations of our submissions to ilsvrc & coco 2015 competitions1, where we also won the 1st places on the tasks of imagenet detection, imagenet localization, coco detection, and coco segmentation.',\n",
       " ', where we also won the 1st places on the tasks of imagenet detection, imagenet localization, coco detection, and coco segmentation.']"
      ]
     },
     "execution_count": 40,
     "metadata": {},
     "output_type": "execute_result"
    }
   ],
   "source": [
    "chunks_text"
   ]
  },
  {
   "cell_type": "code",
   "execution_count": 24,
   "metadata": {},
   "outputs": [
    {
     "data": {
      "text/plain": [
       "array([0.01124003, 0.01438417, 0.11143881, 0.1202441 , 0.1260078 ,\n",
       "       0.18332219, 0.18813533, 0.23486495, 0.23629798, 0.23947683],\n",
       "      dtype=float32)"
      ]
     },
     "execution_count": 24,
     "metadata": {},
     "output_type": "execute_result"
    }
   ],
   "source": [
    "\n",
    "\n",
    "distances.flatten()"
   ]
  },
  {
   "cell_type": "markdown",
   "metadata": {},
   "source": [
    "### Using Docling papers"
   ]
  },
  {
   "cell_type": "code",
   "execution_count": null,
   "metadata": {},
   "outputs": [],
   "source": [
    "from importlib import reload\n",
    "from semantic_search import store\n",
    "reload(store)\n",
    "from semantic_search.store import LocalEmbeddingModel, FAISSDocumentStore"
   ]
  },
  {
   "cell_type": "code",
   "execution_count": null,
   "metadata": {},
   "outputs": [
    {
     "name": "stdout",
     "output_type": "stream",
     "text": [
      "Loaded index with 73809 vectors\n"
     ]
    }
   ],
   "source": [
    "embedding_model = LocalEmbeddingModel(\n",
    "    model_name='sentence-transformers/all-MiniLM-L6-v2',\n",
    "    device='cuda',\n",
    "    batch_size=8\n",
    ")\n",
    "document_store = FAISSDocumentStore(\n",
    "    embedding_model=embedding_model,\n",
    "    db_dir='/cluster/home/lcarretero/workspace/dsl/dsl-research-assistant/db/chunk1-txt-all',\n",
    ")\n",
    "\n",
    "if not document_store.load_index():\n",
    "    document_store.create_index('/cluster/home/lcarretero/workspace/dsl/dsl-research-assistant/raw-data/Conversions/opencvf-data/txt')"
   ]
  },
  {
   "cell_type": "code",
   "execution_count": null,
   "metadata": {},
   "outputs": [
    {
     "name": "stdout",
     "output_type": "stream",
     "text": [
      "er-efficient visual instruction model. arXiv 2304.15010 , 2023. 1, 3, 4\n",
      "- [9] Yash Goyal, Tejas Khot, Douglas Summers-Stay, Dhruv Batra, and Devi Parikh. Making the V in VQA matter: Elevating the role...\n"
     ]
    }
   ],
   "source": [
    "print(document_store.search(\"visual\", top_k=5)[0]['chunk_text'])"
   ]
  }
 ],
 "metadata": {
  "kernelspec": {
   "display_name": "Python (dsl-research-assistant)",
   "language": "python",
   "name": "dsl-research-assistant"
  },
  "language_info": {
   "codemirror_mode": {
    "name": "ipython",
    "version": 3
   },
   "file_extension": ".py",
   "mimetype": "text/x-python",
   "name": "python",
   "nbconvert_exporter": "python",
   "pygments_lexer": "ipython3",
   "version": "3.11.6"
  }
 },
 "nbformat": 4,
 "nbformat_minor": 2
}
